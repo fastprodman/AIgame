{
 "cells": [
  {
   "cell_type": "code",
   "execution_count": 1,
   "metadata": {},
   "outputs": [],
   "source": [
    "import numpy as np"
   ]
  },
  {
   "cell_type": "code",
   "execution_count": 45,
   "metadata": {},
   "outputs": [],
   "source": [
    "class Board:\n",
    "    def __init__(self):\n",
    "        self.board=np.full(shape=(8,8), fill_value=\"e\")\n",
    "        self.board[4][4] = \"w\"\n",
    "        self.board[4][3] = \"b\"\n",
    "        self.board[3][3] = \"w\"\n",
    "        self.board[3][4] = \"b\""
   ]
  },
  {
   "cell_type": "code",
   "execution_count": 46,
   "metadata": {},
   "outputs": [],
   "source": [
    "GAME_STATE = True\n",
    "EMPTY = \"e\"\n",
    "WHITE = \"w\"\n",
    "BLACK = \"b\"\n",
    "DIRECTIONS = ((0, 1), (1, 0), (0, -1), (-1, 0), (1, 1), (-1, -1), (1, -1), (-1, 1))"
   ]
  },
  {
   "cell_type": "code",
   "execution_count": 63,
   "metadata": {},
   "outputs": [],
   "source": [
    "def opposite_color(color):\n",
    "    if color == BLACK:\n",
    "        return WHITE\n",
    "    else:\n",
    "        return BLACK"
   ]
  },
  {
   "cell_type": "code",
   "execution_count": 75,
   "metadata": {},
   "outputs": [],
   "source": [
    "def is_valid_move(board, player, row, col):\n",
    "    if board[row][col] != 'e':\n",
    "        return False\n",
    "\n",
    "    for i in range(-1, 2):\n",
    "        for j in range(-1, 2):\n",
    "            if i == 0 and j == 0:\n",
    "                continue\n",
    "            r, c = row + i, col + j\n",
    "            if r < 0 or r >= 8 or c < 0 or c >= 8:\n",
    "                continue\n",
    "            if board[r][c] == opposite_color(player):\n",
    "                while True:\n",
    "                    r, c = r + i, c + j\n",
    "                    if r < 0 or r >= 8 or c < 0 or c >= 8:\n",
    "                        break\n",
    "                    if board[r][c] == player:\n",
    "                        return True\n",
    "                    if board[r][c] == 'e':\n",
    "                        break\n",
    "\n",
    "    return False\n",
    "\n",
    "def get_valid_moves(board, player):\n",
    "    valid_moves = []\n",
    "    for row in range(8):\n",
    "        for col in range(8):\n",
    "            if is_valid_move(board, player, row, col):\n",
    "                valid_moves.append((row, col))\n",
    "    return valid_moves\n",
    "\n",
    "def flip_pieces(board, player, row, col):\n",
    "    for direction in DIRECTIONS:\n",
    "        r, c = row + direction[0], col + direction[1]\n",
    "        if r < 0 or r >= 8 or c < 0 or c >= 8 or board[r][c] == player or board[r][c] == EMPTY:\n",
    "            continue\n",
    "        pieces_to_flip = []\n",
    "        while board[r][c] != player:\n",
    "            pieces_to_flip.append((r, c))\n",
    "            r += direction[0]\n",
    "            c += direction[1]\n",
    "            if r < 0 or r >= 8 or c < 0 or c >= 8 or board[r][c] == EMPTY:\n",
    "                break\n",
    "        else:\n",
    "            for piece in pieces_to_flip:\n",
    "                board[piece[0]][piece[1]] = player\n",
    "    board[row][col] = player\n",
    "\n",
    "def get_winner(board):\n",
    "    white_count = np.count_nonzero(board == WHITE)\n",
    "    black_count = np.count_nonzero(board == BLACK)\n",
    "    if white_count > black_count:\n",
    "        return WHITE\n",
    "    elif black_count > white_count:\n",
    "        return BLACK\n",
    "    else:\n",
    "        return EMPTY"
   ]
  },
  {
   "cell_type": "code",
   "execution_count": 101,
   "metadata": {},
   "outputs": [],
   "source": [
    "def get_score(board):\n",
    "    \"\"\"\n",
    "    Returns the number of black and white pieces on the board.\n",
    "    \"\"\"\n",
    "    black_count = 0\n",
    "    white_count = 0\n",
    "    \n",
    "    for row in range(8):\n",
    "        for col in range(8):\n",
    "            if board[row][col] == 'b':\n",
    "                black_count += 1\n",
    "            elif board[row][col] == 'w':\n",
    "                white_count += 1\n",
    "    \n",
    "    return (black_count, white_count)"
   ]
  },
  {
   "cell_type": "code",
   "execution_count": 27,
   "metadata": {},
   "outputs": [],
   "source": [
    "def make_move(board, player, row, col):\n",
    "    if not is_valid_move(board, player, row, col):\n",
    "        return False\n",
    "    flip_pieces(board, player, row, col)\n",
    "    return True"
   ]
  },
  {
   "cell_type": "code",
   "execution_count": 60,
   "metadata": {},
   "outputs": [],
   "source": [
    "board = Board()"
   ]
  },
  {
   "cell_type": "code",
   "execution_count": 96,
   "metadata": {},
   "outputs": [
    {
     "data": {
      "text/plain": [
       "[(1, 1), (2, 1), (3, 1), (4, 1), (5, 1), (5, 2), (5, 3), (5, 4), (5, 5)]"
      ]
     },
     "execution_count": 96,
     "metadata": {},
     "output_type": "execute_result"
    }
   ],
   "source": [
    "get_valid_moves(board=board.board, player=BLACK)"
   ]
  },
  {
   "cell_type": "code",
   "execution_count": 97,
   "metadata": {},
   "outputs": [
    {
     "data": {
      "text/plain": [
       "True"
      ]
     },
     "execution_count": 97,
     "metadata": {},
     "output_type": "execute_result"
    }
   ],
   "source": [
    "make_move(board=board.board, player=BLACK, row=5,col=1)\n",
    "    "
   ]
  },
  {
   "cell_type": "code",
   "execution_count": 99,
   "metadata": {},
   "outputs": [
    {
     "data": {
      "text/plain": [
       "array([['e', 'e', 'e', 'e', 'e', 'e', 'e', 'e'],\n",
       "       ['e', 'e', 'e', 'e', 'e', 'e', 'e', 'e'],\n",
       "       ['e', 'e', 'w', 'b', 'e', 'e', 'e', 'e'],\n",
       "       ['e', 'e', 'w', 'b', 'b', 'e', 'e', 'e'],\n",
       "       ['e', 'e', 'b', 'w', 'w', 'e', 'e', 'e'],\n",
       "       ['e', 'b', 'e', 'e', 'e', 'e', 'e', 'e'],\n",
       "       ['e', 'e', 'e', 'e', 'e', 'e', 'e', 'e'],\n",
       "       ['e', 'e', 'e', 'e', 'e', 'e', 'e', 'e']], dtype='<U1')"
      ]
     },
     "execution_count": 99,
     "metadata": {},
     "output_type": "execute_result"
    }
   ],
   "source": [
    "board.board"
   ]
  },
  {
   "cell_type": "code",
   "execution_count": 102,
   "metadata": {},
   "outputs": [
    {
     "data": {
      "text/plain": [
       "(5, 4)"
      ]
     },
     "execution_count": 102,
     "metadata": {},
     "output_type": "execute_result"
    }
   ],
   "source": [
    "get_score(board.board)"
   ]
  }
 ],
 "metadata": {
  "kernelspec": {
   "display_name": "Python 3",
   "language": "python",
   "name": "python3"
  },
  "language_info": {
   "codemirror_mode": {
    "name": "ipython",
    "version": 3
   },
   "file_extension": ".py",
   "mimetype": "text/x-python",
   "name": "python",
   "nbconvert_exporter": "python",
   "pygments_lexer": "ipython3",
   "version": "3.11.1"
  },
  "orig_nbformat": 4,
  "vscode": {
   "interpreter": {
    "hash": "a2f2f29211d175bddc4d0e0bdf620d5762d81d6b479f39a192295fc594a216df"
   }
  }
 },
 "nbformat": 4,
 "nbformat_minor": 2
}
